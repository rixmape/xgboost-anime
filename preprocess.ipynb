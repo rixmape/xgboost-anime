{
 "cells": [
  {
   "cell_type": "markdown",
   "metadata": {},
   "source": [
    " # Anime Popularity Prediction: Data Preprocessing and Feature Engineering"
   ]
  },
  {
   "cell_type": "markdown",
   "metadata": {},
   "source": [
    " ## Imports and Setup"
   ]
  },
  {
   "cell_type": "code",
   "execution_count": 1,
   "metadata": {},
   "outputs": [],
   "source": [
    "import datetime\n",
    "import re\n",
    "\n",
    "import numpy as np\n",
    "import pandas as pd\n",
    "from tqdm.auto import tqdm  # noqa\n",
    "from sentence_transformers import SentenceTransformer\n",
    "from sklearn.decomposition import TruncatedSVD\n",
    "from sklearn.ensemble import RandomForestRegressor\n",
    "from sklearn.experimental import enable_iterative_imputer\n",
    "from sklearn.impute import IterativeImputer\n",
    "from sklearn.preprocessing import MultiLabelBinarizer, OrdinalEncoder\n",
    "\n",
    "np.random.seed(42)  # Set random seed for reproducibility"
   ]
  },
  {
   "cell_type": "markdown",
   "metadata": {},
   "source": [
    " ## Data Loading"
   ]
  },
  {
   "cell_type": "code",
   "execution_count": 2,
   "metadata": {},
   "outputs": [],
   "source": [
    "def load_data(anime_file, character_file):\n",
    "    anime_df = pd.read_csv(anime_file)\n",
    "    character_df = pd.read_csv(character_file)\n",
    "    return anime_df, character_df\n",
    "\n",
    "\n",
    "anime_df, character_df = load_data(\"data/anime.csv\", \"data/character.csv\")"
   ]
  },
  {
   "cell_type": "markdown",
   "metadata": {},
   "source": [
    " ## Data Preprocessing"
   ]
  },
  {
   "cell_type": "code",
   "execution_count": 3,
   "metadata": {},
   "outputs": [],
   "source": [
    "def select_features(df, features):\n",
    "    return df[features]\n",
    "\n",
    "\n",
    "anime_features = [\n",
    "    \"anime_id\",\n",
    "    \"type\",\n",
    "    \"source\",\n",
    "    \"episodes\",\n",
    "    \"status\",\n",
    "    \"aired_from\",\n",
    "    \"aired_to\",\n",
    "    \"duration\",\n",
    "    \"rating\",\n",
    "    \"score\",\n",
    "    \"scored_by\",\n",
    "    \"rank\",\n",
    "    \"popularity\",\n",
    "    \"members\",\n",
    "    \"favorites\",\n",
    "    \"synopsis\",\n",
    "    \"producers\",\n",
    "    \"studios\",\n",
    "    \"genres\",\n",
    "    \"themes\",\n",
    "]\n",
    "\n",
    "character_features = [\n",
    "    \"character_id\",\n",
    "    \"anime_id\",\n",
    "    \"role\",\n",
    "    \"favorites\",\n",
    "    \"about\",\n",
    "]\n",
    "\n",
    "anime_df = select_features(anime_df, anime_features)\n",
    "character_df = select_features(character_df, character_features)"
   ]
  },
  {
   "cell_type": "code",
   "execution_count": 4,
   "metadata": {},
   "outputs": [],
   "source": [
    "def handle_missing_values(df):\n",
    "    df[\"episodes\"] = df[\"episodes\"].fillna(0)\n",
    "    df[\"score\"] = df[\"score\"].fillna(df[\"score\"].mean())\n",
    "    df[\"synopsis\"] = df[\"synopsis\"].fillna(\"\")\n",
    "    df[\"producers\"] = df[\"producers\"].fillna(\"Unknown\")\n",
    "    df[\"type\"] = df[\"type\"].fillna(df[\"type\"].mode()[0])\n",
    "    df[\"scored_by\"] = df[\"scored_by\"].fillna(0)\n",
    "    df[\"rank\"] = df[\"rank\"].fillna(df[\"rank\"].max() + 1)\n",
    "    df[\"studios\"] = df[\"studios\"].fillna(\"Unknown Studio\")\n",
    "    return df\n",
    "\n",
    "\n",
    "anime_df = handle_missing_values(anime_df)"
   ]
  },
  {
   "cell_type": "code",
   "execution_count": 5,
   "metadata": {},
   "outputs": [],
   "source": [
    "def parse_date(date_str):\n",
    "    try:\n",
    "        return pd.to_datetime(date_str).tz_localize(None)\n",
    "    except:\n",
    "        return pd.NaT\n",
    "\n",
    "\n",
    "def impute_aired_from(df):\n",
    "    df[\"aired_from\"] = df[\"aired_from\"].apply(parse_date)\n",
    "    reference_date = pd.Timestamp(\"1970-01-01\")\n",
    "    df[\"aired_from_days\"] = (df[\"aired_from\"] - reference_date).dt.days\n",
    "\n",
    "    features_for_imputation = [\"aired_from_days\", \"score\", \"members\", \"favorites\", \"episodes\"]\n",
    "    imputation_data = df[features_for_imputation].copy()\n",
    "\n",
    "    imputer = IterativeImputer(\n",
    "        estimator=RandomForestRegressor(),\n",
    "        max_iter=10,\n",
    "        random_state=42,\n",
    "        n_nearest_features=5,\n",
    "    )\n",
    "    imputed_data = imputer.fit_transform(imputation_data)\n",
    "\n",
    "    df[\"aired_from\"] = pd.to_datetime(reference_date) + pd.to_timedelta(\n",
    "        imputed_data[:, 0].round(),\n",
    "        unit=\"D\",\n",
    "    )\n",
    "\n",
    "    min_date = pd.Timestamp(\"1900-01-01\")\n",
    "    max_date = pd.Timestamp.now()\n",
    "    df[\"aired_from\"] = df[\"aired_from\"].clip(lower=min_date, upper=max_date)\n",
    "\n",
    "    return df\n",
    "\n",
    "\n",
    "def impute_aired_to(df):\n",
    "    df[\"aired_to\"] = df[\"aired_to\"].apply(parse_date)\n",
    "    df[\"aired_to\"] = df.apply(\n",
    "        lambda row: (\n",
    "            pd.Timestamp.now()\n",
    "            if row[\"status\"] == \"Currently Airing\"\n",
    "            else (\n",
    "                row[\"aired_from\"] + pd.Timedelta(days=(df[\"aired_to\"] - df[\"aired_from\"]).median().days)\n",
    "                if pd.isnull(row[\"aired_to\"])\n",
    "                else row[\"aired_to\"]\n",
    "            )\n",
    "        ),\n",
    "        axis=1,\n",
    "    )\n",
    "\n",
    "    return df\n",
    "\n",
    "\n",
    "anime_df = impute_aired_from(anime_df)\n",
    "anime_df = impute_aired_to(anime_df)"
   ]
  },
  {
   "cell_type": "code",
   "execution_count": 6,
   "metadata": {},
   "outputs": [],
   "source": [
    "def transform_values(df):\n",
    "    df[\"rating\"] = df[\"rating\"].astype(str).apply(lambda x: x.split(\" \")[0])\n",
    "    df[\"genres\"] = df[\"genres\"].astype(str).apply(lambda x: x.lower().split(\", \"))\n",
    "    df[\"themes\"] = df[\"themes\"].astype(str).apply(lambda x: x.lower().split(\", \"))\n",
    "    return df\n",
    "\n",
    "\n",
    "anime_df = transform_values(anime_df)"
   ]
  },
  {
   "cell_type": "code",
   "execution_count": 7,
   "metadata": {},
   "outputs": [],
   "source": [
    "def encode_categorical_variables(df):\n",
    "    features = [\"type\", \"source\", \"status\", \"rating\"]\n",
    "    oe = OrdinalEncoder(handle_unknown=\"use_encoded_value\", unknown_value=-1)\n",
    "    encoded = oe.fit_transform(df[features])\n",
    "\n",
    "    encoded_df = pd.DataFrame(\n",
    "        encoded,\n",
    "        columns=[f\"{col}_encoded\" for col in features],\n",
    "    )\n",
    "    df = pd.concat([df, encoded_df], axis=1)\n",
    "\n",
    "    df[\"is_tv\"] = (df[\"type\"] == \"TV\").astype(int)\n",
    "    df[\"is_movie\"] = (df[\"type\"] == \"Movie\").astype(int)\n",
    "    df[\"is_original\"] = (df[\"source\"] == \"Original\").astype(int)\n",
    "    df[\"is_manga\"] = (df[\"source\"] == \"Manga\").astype(int)\n",
    "\n",
    "    novel_sources = [\"Novel\", \"Light novel\", \"Visual novel\"]\n",
    "    df[\"is_novel\"] = (df[\"source\"].isin(novel_sources)).astype(int)\n",
    "    df[\"is_finished\"] = (df[\"status\"] == \"Finished Airing\").astype(int)\n",
    "    df[\"is_adult\"] = (df[\"rating\"].isin([\"R\", \"R+\", \"Rx\"])).astype(int)\n",
    "\n",
    "    df = df.drop(columns=features)\n",
    "    return df\n",
    "\n",
    "\n",
    "anime_df = encode_categorical_variables(anime_df)"
   ]
  },
  {
   "cell_type": "markdown",
   "metadata": {},
   "source": [
    " ## Feature Engineering"
   ]
  },
  {
   "cell_type": "code",
   "execution_count": 8,
   "metadata": {},
   "outputs": [],
   "source": [
    "def create_date_features(df):\n",
    "    current_date = datetime.datetime.now()\n",
    "    time_since_aired = current_date - df[\"aired_from\"]\n",
    "    df[\"years_since_aired\"] = (time_since_aired).dt.days / 365.25\n",
    "    airing_duration = df[\"aired_to\"] - df[\"aired_from\"]\n",
    "    df[\"days_aired\"] = (airing_duration).dt.days\n",
    "    df = df.drop(columns=[\"aired_to\"])\n",
    "    return df\n",
    "\n",
    "\n",
    "anime_df = create_date_features(anime_df)"
   ]
  },
  {
   "cell_type": "code",
   "execution_count": 9,
   "metadata": {},
   "outputs": [],
   "source": [
    "def extract_minutes(duration_str, num_episodes):\n",
    "    if pd.isna(duration_str):\n",
    "        return np.nan\n",
    "    hours = re.findall(r\"(\\d+)\\s*hr\", duration_str)\n",
    "    minutes = re.findall(r\"(\\d+)\\s*min\", duration_str)\n",
    "    total_minutes = 0\n",
    "    if hours:\n",
    "        total_minutes += int(hours[0]) * 60\n",
    "    if minutes:\n",
    "        total_minutes += int(minutes[0])\n",
    "    return total_minutes * num_episodes\n",
    "\n",
    "\n",
    "def create_duration_feature(df):\n",
    "    df[\"duration_minutes\"] = df.apply(\n",
    "        lambda row: extract_minutes(row[\"duration\"], row[\"episodes\"]),\n",
    "        axis=1,\n",
    "    )\n",
    "    df = df.drop(columns=[\"duration\"])\n",
    "    return df\n",
    "\n",
    "\n",
    "anime_df = create_duration_feature(anime_df)"
   ]
  },
  {
   "cell_type": "code",
   "execution_count": 10,
   "metadata": {},
   "outputs": [],
   "source": [
    "def create_seasonal_features(df):\n",
    "    df[\"air_month\"] = df[\"aired_from\"].dt.month\n",
    "    df[\"air_season\"] = pd.cut(\n",
    "        df[\"air_month\"],\n",
    "        bins=[0, 3, 6, 9, 12],\n",
    "        labels=[\"Winter\", \"Spring\", \"Summer\", \"Fall\"],\n",
    "        include_lowest=True,\n",
    "    )\n",
    "\n",
    "    season_avg_popularity = df.groupby(\"air_season\", observed=False,)[\"popularity\"].transform(\"mean\")\n",
    "    df[\"popularity_vs_season_avg\"] = df[\"popularity\"] / season_avg_popularity\n",
    "\n",
    "    df = df.drop(columns=[\"aired_from\", \"air_month\", \"air_season\"])\n",
    "    return df\n",
    "\n",
    "\n",
    "anime_df = create_seasonal_features(anime_df)"
   ]
  },
  {
   "cell_type": "code",
   "execution_count": 11,
   "metadata": {},
   "outputs": [],
   "source": [
    "def apply_svd(encoded_matrix, prefix):\n",
    "    n_features = encoded_matrix.shape[1]\n",
    "    n_components = min(n_features - 1, 10)\n",
    "\n",
    "    if n_components > 0:\n",
    "        svd = TruncatedSVD(n_components=n_components, random_state=42)\n",
    "        reduced = svd.fit_transform(encoded_matrix)\n",
    "        return pd.DataFrame(reduced, columns=[f\"{prefix}_svd_{i}\" for i in range(n_components)])\n",
    "    else:\n",
    "        return pd.DataFrame()\n",
    "\n",
    "\n",
    "def create_high_level_categories(row):\n",
    "    genres = set(row[\"genres\"])\n",
    "    themes = set(row[\"themes\"])\n",
    "\n",
    "    return pd.Series(\n",
    "        {\n",
    "            \"is_action_adventure\": int(bool(genres & {\"action\", \"adventure\"})),\n",
    "            \"is_romance\": int(\"romance\" in genres),\n",
    "            \"is_comedy\": int(\"comedy\" in genres),\n",
    "            \"is_drama\": int(\"drama\" in genres),\n",
    "            \"is_scifi_fantasy\": int(bool(genres & {\"sci-fi\", \"fantasy\"})),\n",
    "            \"is_isekai\": int(\"isekai\" in themes),\n",
    "            \"has_harem\": int(\"harem\" in themes),\n",
    "            \"has_school\": int(\"school\" in themes),\n",
    "            \"has_military\": int(\"military\" in themes),\n",
    "            \"has_supernatural\": int(bool(genres & {\"supernatural\"} | {\"mythology\", \"vampire\"} & themes)),\n",
    "        }\n",
    "    )\n",
    "\n",
    "\n",
    "def engineer_genre_theme_features(df):\n",
    "    mlb_genres = MultiLabelBinarizer()\n",
    "    mlb_themes = MultiLabelBinarizer()\n",
    "\n",
    "    genres_encoded = mlb_genres.fit_transform(df[\"genres\"])\n",
    "    themes_encoded = mlb_themes.fit_transform(df[\"themes\"])\n",
    "\n",
    "    genres_df = apply_svd(genres_encoded, \"genre\")\n",
    "    themes_df = apply_svd(themes_encoded, \"theme\")\n",
    "\n",
    "    high_level_categories = df.apply(create_high_level_categories, axis=1)\n",
    "\n",
    "    df = pd.concat([df, genres_df, themes_df, high_level_categories], axis=1)\n",
    "    df = df.drop(columns=[\"genres\", \"themes\"])\n",
    "\n",
    "    return df\n",
    "\n",
    "\n",
    "anime_df = engineer_genre_theme_features(anime_df)"
   ]
  },
  {
   "cell_type": "code",
   "execution_count": 12,
   "metadata": {},
   "outputs": [],
   "source": [
    "def calculate_reputation_score(entity, df):\n",
    "    mask = df[[\"studios\", \"producers\"]].apply(lambda x: x.str.contains(entity, case=False, na=False)).any(axis=1)\n",
    "    avg_rank = df.loc[mask, \"rank\"].mean()\n",
    "    return 1 / (avg_rank + 1) if pd.notna(avg_rank) else 0\n",
    "\n",
    "\n",
    "def calculate_mean_reputation(entities, reputation_scores):\n",
    "    if pd.notna(entities):\n",
    "        return np.mean([reputation_scores.get(e.strip(), 0) for e in str(entities).split(\",\")])\n",
    "    return 0\n",
    "\n",
    "\n",
    "def create_reputation_scores(df):\n",
    "    for entity in [\"studios\", \"producers\"]:\n",
    "        entity_list = df[entity].str.split(\", \").explode().unique()\n",
    "        reputation_scores = {e: calculate_reputation_score(e, df) for e in entity_list if pd.notna(e)}\n",
    "\n",
    "        df[f\"{entity}_reputation\"] = df[entity].apply(lambda x: calculate_mean_reputation(x, reputation_scores))\n",
    "\n",
    "    df = df.drop(columns=[\"studios\", \"producers\"])\n",
    "    return df\n",
    "\n",
    "\n",
    "anime_df = create_reputation_scores(anime_df)"
   ]
  },
  {
   "cell_type": "code",
   "execution_count": 13,
   "metadata": {},
   "outputs": [],
   "source": [
    "def engineer_engagement_features(df):\n",
    "    df[\"score_to_scored_by_ratio\"] = df[\"score\"] / (df[\"scored_by\"] + 1)\n",
    "    df[\"favorites_to_members_ratio\"] = df[\"favorites\"] / (df[\"members\"] + 1)\n",
    "    df[\"score_popularity_interaction\"] = df[\"score\"] * np.log1p(df[\"popularity\"])\n",
    "    return df\n",
    "\n",
    "\n",
    "anime_df = engineer_engagement_features(anime_df)"
   ]
  },
  {
   "cell_type": "code",
   "execution_count": 14,
   "metadata": {},
   "outputs": [],
   "source": [
    "def engineer_character_features(anime_df, character_df):\n",
    "    character_df[\"is_main\"] = (character_df[\"role\"] == \"Main\").astype(int)\n",
    "\n",
    "    char_features = (\n",
    "        character_df.groupby(\"anime_id\")\n",
    "        .agg(\n",
    "            {\n",
    "                \"is_main\": \"sum\",\n",
    "                \"favorites\": [\"mean\", \"max\", \"std\"],\n",
    "            }\n",
    "        )\n",
    "        .reset_index()\n",
    "    )\n",
    "\n",
    "    char_features.columns = [\n",
    "        \"anime_id\",\n",
    "        \"main_character_count\",\n",
    "        \"avg_char_favorites\",\n",
    "        \"max_char_favorites\",\n",
    "        \"std_char_favorites\",\n",
    "    ]\n",
    "\n",
    "    char_features[\"character_diversity\"] = char_features[\"std_char_favorites\"] / char_features[\"avg_char_favorites\"]\n",
    "\n",
    "    anime_df = pd.merge(anime_df, char_features, on=\"anime_id\", how=\"left\")\n",
    "    return anime_df\n",
    "\n",
    "\n",
    "anime_df = engineer_character_features(anime_df, character_df)"
   ]
  },
  {
   "cell_type": "code",
   "execution_count": 15,
   "metadata": {},
   "outputs": [
    {
     "data": {
      "application/vnd.jupyter.widget-view+json": {
       "model_id": "4d619bd26bbe415ba930d899c081e257",
       "version_major": 2,
       "version_minor": 0
      },
      "text/plain": [
       "Batches:   0%|          | 0/13 [00:00<?, ?it/s]"
      ]
     },
     "metadata": {},
     "output_type": "display_data"
    }
   ],
   "source": [
    "def create_synopsis_embeddings(df):\n",
    "    model = SentenceTransformer(\"sentence-transformers/all-MiniLM-L6-v2\")\n",
    "\n",
    "    embeddings = model.encode(\n",
    "        df[\"synopsis\"].fillna(\"\"),\n",
    "        show_progress_bar=True,\n",
    "    )\n",
    "\n",
    "    synopsis_df = pd.DataFrame(\n",
    "        embeddings,\n",
    "        columns=[f\"synopsis_emb_{i}\" for i in range(embeddings.shape[1])],\n",
    "    )\n",
    "\n",
    "    df = pd.concat([df, synopsis_df], axis=1)\n",
    "    df = df.drop(columns=[\"synopsis\"])\n",
    "\n",
    "    return df\n",
    "\n",
    "\n",
    "anime_df = create_synopsis_embeddings(anime_df)"
   ]
  },
  {
   "cell_type": "markdown",
   "metadata": {},
   "source": [
    " ## Final Dataset"
   ]
  },
  {
   "cell_type": "code",
   "execution_count": 16,
   "metadata": {},
   "outputs": [
    {
     "name": "stdout",
     "output_type": "stream",
     "text": [
      "Final dataset shape: (400, 448)\n",
      "\n",
      "Columns in the final dataset:\n",
      "['anime_id', 'episodes', 'score', 'scored_by', 'rank', 'popularity', 'members', 'favorites', 'aired_from_days', 'type_encoded', 'source_encoded', 'status_encoded', 'rating_encoded', 'is_tv', 'is_movie', 'is_original', 'is_manga', 'is_novel', 'is_finished', 'is_adult', 'years_since_aired', 'days_aired', 'duration_minutes', 'popularity_vs_season_avg', 'genre_svd_0', 'genre_svd_1', 'genre_svd_2', 'genre_svd_3', 'genre_svd_4', 'genre_svd_5', 'genre_svd_6', 'genre_svd_7', 'genre_svd_8', 'genre_svd_9', 'theme_svd_0', 'theme_svd_1', 'theme_svd_2', 'theme_svd_3', 'theme_svd_4', 'theme_svd_5', 'theme_svd_6', 'theme_svd_7', 'theme_svd_8', 'theme_svd_9', 'is_action_adventure', 'is_romance', 'is_comedy', 'is_drama', 'is_scifi_fantasy', 'is_isekai', 'has_harem', 'has_school', 'has_military', 'has_supernatural', 'studios_reputation', 'producers_reputation', 'score_to_scored_by_ratio', 'favorites_to_members_ratio', 'score_popularity_interaction', 'main_character_count', 'avg_char_favorites', 'max_char_favorites', 'std_char_favorites', 'character_diversity', 'synopsis_emb_0', 'synopsis_emb_1', 'synopsis_emb_2', 'synopsis_emb_3', 'synopsis_emb_4', 'synopsis_emb_5', 'synopsis_emb_6', 'synopsis_emb_7', 'synopsis_emb_8', 'synopsis_emb_9', 'synopsis_emb_10', 'synopsis_emb_11', 'synopsis_emb_12', 'synopsis_emb_13', 'synopsis_emb_14', 'synopsis_emb_15', 'synopsis_emb_16', 'synopsis_emb_17', 'synopsis_emb_18', 'synopsis_emb_19', 'synopsis_emb_20', 'synopsis_emb_21', 'synopsis_emb_22', 'synopsis_emb_23', 'synopsis_emb_24', 'synopsis_emb_25', 'synopsis_emb_26', 'synopsis_emb_27', 'synopsis_emb_28', 'synopsis_emb_29', 'synopsis_emb_30', 'synopsis_emb_31', 'synopsis_emb_32', 'synopsis_emb_33', 'synopsis_emb_34', 'synopsis_emb_35', 'synopsis_emb_36', 'synopsis_emb_37', 'synopsis_emb_38', 'synopsis_emb_39', 'synopsis_emb_40', 'synopsis_emb_41', 'synopsis_emb_42', 'synopsis_emb_43', 'synopsis_emb_44', 'synopsis_emb_45', 'synopsis_emb_46', 'synopsis_emb_47', 'synopsis_emb_48', 'synopsis_emb_49', 'synopsis_emb_50', 'synopsis_emb_51', 'synopsis_emb_52', 'synopsis_emb_53', 'synopsis_emb_54', 'synopsis_emb_55', 'synopsis_emb_56', 'synopsis_emb_57', 'synopsis_emb_58', 'synopsis_emb_59', 'synopsis_emb_60', 'synopsis_emb_61', 'synopsis_emb_62', 'synopsis_emb_63', 'synopsis_emb_64', 'synopsis_emb_65', 'synopsis_emb_66', 'synopsis_emb_67', 'synopsis_emb_68', 'synopsis_emb_69', 'synopsis_emb_70', 'synopsis_emb_71', 'synopsis_emb_72', 'synopsis_emb_73', 'synopsis_emb_74', 'synopsis_emb_75', 'synopsis_emb_76', 'synopsis_emb_77', 'synopsis_emb_78', 'synopsis_emb_79', 'synopsis_emb_80', 'synopsis_emb_81', 'synopsis_emb_82', 'synopsis_emb_83', 'synopsis_emb_84', 'synopsis_emb_85', 'synopsis_emb_86', 'synopsis_emb_87', 'synopsis_emb_88', 'synopsis_emb_89', 'synopsis_emb_90', 'synopsis_emb_91', 'synopsis_emb_92', 'synopsis_emb_93', 'synopsis_emb_94', 'synopsis_emb_95', 'synopsis_emb_96', 'synopsis_emb_97', 'synopsis_emb_98', 'synopsis_emb_99', 'synopsis_emb_100', 'synopsis_emb_101', 'synopsis_emb_102', 'synopsis_emb_103', 'synopsis_emb_104', 'synopsis_emb_105', 'synopsis_emb_106', 'synopsis_emb_107', 'synopsis_emb_108', 'synopsis_emb_109', 'synopsis_emb_110', 'synopsis_emb_111', 'synopsis_emb_112', 'synopsis_emb_113', 'synopsis_emb_114', 'synopsis_emb_115', 'synopsis_emb_116', 'synopsis_emb_117', 'synopsis_emb_118', 'synopsis_emb_119', 'synopsis_emb_120', 'synopsis_emb_121', 'synopsis_emb_122', 'synopsis_emb_123', 'synopsis_emb_124', 'synopsis_emb_125', 'synopsis_emb_126', 'synopsis_emb_127', 'synopsis_emb_128', 'synopsis_emb_129', 'synopsis_emb_130', 'synopsis_emb_131', 'synopsis_emb_132', 'synopsis_emb_133', 'synopsis_emb_134', 'synopsis_emb_135', 'synopsis_emb_136', 'synopsis_emb_137', 'synopsis_emb_138', 'synopsis_emb_139', 'synopsis_emb_140', 'synopsis_emb_141', 'synopsis_emb_142', 'synopsis_emb_143', 'synopsis_emb_144', 'synopsis_emb_145', 'synopsis_emb_146', 'synopsis_emb_147', 'synopsis_emb_148', 'synopsis_emb_149', 'synopsis_emb_150', 'synopsis_emb_151', 'synopsis_emb_152', 'synopsis_emb_153', 'synopsis_emb_154', 'synopsis_emb_155', 'synopsis_emb_156', 'synopsis_emb_157', 'synopsis_emb_158', 'synopsis_emb_159', 'synopsis_emb_160', 'synopsis_emb_161', 'synopsis_emb_162', 'synopsis_emb_163', 'synopsis_emb_164', 'synopsis_emb_165', 'synopsis_emb_166', 'synopsis_emb_167', 'synopsis_emb_168', 'synopsis_emb_169', 'synopsis_emb_170', 'synopsis_emb_171', 'synopsis_emb_172', 'synopsis_emb_173', 'synopsis_emb_174', 'synopsis_emb_175', 'synopsis_emb_176', 'synopsis_emb_177', 'synopsis_emb_178', 'synopsis_emb_179', 'synopsis_emb_180', 'synopsis_emb_181', 'synopsis_emb_182', 'synopsis_emb_183', 'synopsis_emb_184', 'synopsis_emb_185', 'synopsis_emb_186', 'synopsis_emb_187', 'synopsis_emb_188', 'synopsis_emb_189', 'synopsis_emb_190', 'synopsis_emb_191', 'synopsis_emb_192', 'synopsis_emb_193', 'synopsis_emb_194', 'synopsis_emb_195', 'synopsis_emb_196', 'synopsis_emb_197', 'synopsis_emb_198', 'synopsis_emb_199', 'synopsis_emb_200', 'synopsis_emb_201', 'synopsis_emb_202', 'synopsis_emb_203', 'synopsis_emb_204', 'synopsis_emb_205', 'synopsis_emb_206', 'synopsis_emb_207', 'synopsis_emb_208', 'synopsis_emb_209', 'synopsis_emb_210', 'synopsis_emb_211', 'synopsis_emb_212', 'synopsis_emb_213', 'synopsis_emb_214', 'synopsis_emb_215', 'synopsis_emb_216', 'synopsis_emb_217', 'synopsis_emb_218', 'synopsis_emb_219', 'synopsis_emb_220', 'synopsis_emb_221', 'synopsis_emb_222', 'synopsis_emb_223', 'synopsis_emb_224', 'synopsis_emb_225', 'synopsis_emb_226', 'synopsis_emb_227', 'synopsis_emb_228', 'synopsis_emb_229', 'synopsis_emb_230', 'synopsis_emb_231', 'synopsis_emb_232', 'synopsis_emb_233', 'synopsis_emb_234', 'synopsis_emb_235', 'synopsis_emb_236', 'synopsis_emb_237', 'synopsis_emb_238', 'synopsis_emb_239', 'synopsis_emb_240', 'synopsis_emb_241', 'synopsis_emb_242', 'synopsis_emb_243', 'synopsis_emb_244', 'synopsis_emb_245', 'synopsis_emb_246', 'synopsis_emb_247', 'synopsis_emb_248', 'synopsis_emb_249', 'synopsis_emb_250', 'synopsis_emb_251', 'synopsis_emb_252', 'synopsis_emb_253', 'synopsis_emb_254', 'synopsis_emb_255', 'synopsis_emb_256', 'synopsis_emb_257', 'synopsis_emb_258', 'synopsis_emb_259', 'synopsis_emb_260', 'synopsis_emb_261', 'synopsis_emb_262', 'synopsis_emb_263', 'synopsis_emb_264', 'synopsis_emb_265', 'synopsis_emb_266', 'synopsis_emb_267', 'synopsis_emb_268', 'synopsis_emb_269', 'synopsis_emb_270', 'synopsis_emb_271', 'synopsis_emb_272', 'synopsis_emb_273', 'synopsis_emb_274', 'synopsis_emb_275', 'synopsis_emb_276', 'synopsis_emb_277', 'synopsis_emb_278', 'synopsis_emb_279', 'synopsis_emb_280', 'synopsis_emb_281', 'synopsis_emb_282', 'synopsis_emb_283', 'synopsis_emb_284', 'synopsis_emb_285', 'synopsis_emb_286', 'synopsis_emb_287', 'synopsis_emb_288', 'synopsis_emb_289', 'synopsis_emb_290', 'synopsis_emb_291', 'synopsis_emb_292', 'synopsis_emb_293', 'synopsis_emb_294', 'synopsis_emb_295', 'synopsis_emb_296', 'synopsis_emb_297', 'synopsis_emb_298', 'synopsis_emb_299', 'synopsis_emb_300', 'synopsis_emb_301', 'synopsis_emb_302', 'synopsis_emb_303', 'synopsis_emb_304', 'synopsis_emb_305', 'synopsis_emb_306', 'synopsis_emb_307', 'synopsis_emb_308', 'synopsis_emb_309', 'synopsis_emb_310', 'synopsis_emb_311', 'synopsis_emb_312', 'synopsis_emb_313', 'synopsis_emb_314', 'synopsis_emb_315', 'synopsis_emb_316', 'synopsis_emb_317', 'synopsis_emb_318', 'synopsis_emb_319', 'synopsis_emb_320', 'synopsis_emb_321', 'synopsis_emb_322', 'synopsis_emb_323', 'synopsis_emb_324', 'synopsis_emb_325', 'synopsis_emb_326', 'synopsis_emb_327', 'synopsis_emb_328', 'synopsis_emb_329', 'synopsis_emb_330', 'synopsis_emb_331', 'synopsis_emb_332', 'synopsis_emb_333', 'synopsis_emb_334', 'synopsis_emb_335', 'synopsis_emb_336', 'synopsis_emb_337', 'synopsis_emb_338', 'synopsis_emb_339', 'synopsis_emb_340', 'synopsis_emb_341', 'synopsis_emb_342', 'synopsis_emb_343', 'synopsis_emb_344', 'synopsis_emb_345', 'synopsis_emb_346', 'synopsis_emb_347', 'synopsis_emb_348', 'synopsis_emb_349', 'synopsis_emb_350', 'synopsis_emb_351', 'synopsis_emb_352', 'synopsis_emb_353', 'synopsis_emb_354', 'synopsis_emb_355', 'synopsis_emb_356', 'synopsis_emb_357', 'synopsis_emb_358', 'synopsis_emb_359', 'synopsis_emb_360', 'synopsis_emb_361', 'synopsis_emb_362', 'synopsis_emb_363', 'synopsis_emb_364', 'synopsis_emb_365', 'synopsis_emb_366', 'synopsis_emb_367', 'synopsis_emb_368', 'synopsis_emb_369', 'synopsis_emb_370', 'synopsis_emb_371', 'synopsis_emb_372', 'synopsis_emb_373', 'synopsis_emb_374', 'synopsis_emb_375', 'synopsis_emb_376', 'synopsis_emb_377', 'synopsis_emb_378', 'synopsis_emb_379', 'synopsis_emb_380', 'synopsis_emb_381', 'synopsis_emb_382', 'synopsis_emb_383']\n"
     ]
    }
   ],
   "source": [
    "print(f\"Final dataset shape: {anime_df.shape}\")\n",
    "print(\"\\nColumns in the final dataset:\")\n",
    "print(anime_df.columns.tolist())"
   ]
  },
  {
   "cell_type": "code",
   "execution_count": 17,
   "metadata": {},
   "outputs": [
    {
     "name": "stdout",
     "output_type": "stream",
     "text": [
      "Processed dataset saved to 'processed_anime_data.csv'\n"
     ]
    }
   ],
   "source": [
    "anime_df.to_csv(\"processed_anime_data.csv\", index=False)\n",
    "print(\"Processed dataset saved to 'processed_anime_data.csv'\")"
   ]
  }
 ],
 "metadata": {
  "kernelspec": {
   "display_name": ".venv",
   "language": "python",
   "name": "python3"
  },
  "language_info": {
   "codemirror_mode": {
    "name": "ipython",
    "version": 3
   },
   "file_extension": ".py",
   "mimetype": "text/x-python",
   "name": "python",
   "nbconvert_exporter": "python",
   "pygments_lexer": "ipython3",
   "version": "3.12.7"
  }
 },
 "nbformat": 4,
 "nbformat_minor": 2
}
