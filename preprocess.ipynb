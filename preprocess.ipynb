{
 "cells": [
  {
   "cell_type": "markdown",
   "metadata": {},
   "source": [
    " # Anime Popularity Prediction: Data Preprocessing and Feature Engineering"
   ]
  },
  {
   "cell_type": "markdown",
   "metadata": {},
   "source": [
    " ## Imports and Setup"
   ]
  },
  {
   "cell_type": "code",
   "execution_count": 1,
   "metadata": {},
   "outputs": [
    {
     "name": "stderr",
     "output_type": "stream",
     "text": [
      "d:\\codes\\xgboost-anime\\.venv\\Lib\\site-packages\\sentence_transformers\\cross_encoder\\CrossEncoder.py:13: TqdmExperimentalWarning: Using `tqdm.autonotebook.tqdm` in notebook mode. Use `tqdm.tqdm` instead to force console mode (e.g. in jupyter console)\n",
      "  from tqdm.autonotebook import tqdm, trange\n"
     ]
    }
   ],
   "source": [
    "import json\n",
    "import re\n",
    "\n",
    "import numpy as np\n",
    "import pandas as pd\n",
    "import spacy\n",
    "from sentence_transformers import SentenceTransformer\n",
    "from sklearn.impute import KNNImputer\n",
    "from sklearn.preprocessing import StandardScaler\n",
    "from tqdm.auto import tqdm  # noqa"
   ]
  },
  {
   "cell_type": "code",
   "execution_count": 2,
   "metadata": {},
   "outputs": [],
   "source": [
    "np.random.seed(42)  # Set random seed for reproducibility"
   ]
  },
  {
   "cell_type": "markdown",
   "metadata": {},
   "source": [
    " ## Data Loading"
   ]
  },
  {
   "cell_type": "code",
   "execution_count": 3,
   "metadata": {},
   "outputs": [],
   "source": [
    "anime_df = pd.read_csv(\"data/anime.csv\")"
   ]
  },
  {
   "cell_type": "markdown",
   "metadata": {},
   "source": [
    " ## Data Preprocessing"
   ]
  },
  {
   "cell_type": "markdown",
   "metadata": {},
   "source": [
    "### Feature Selection"
   ]
  },
  {
   "cell_type": "code",
   "execution_count": 4,
   "metadata": {},
   "outputs": [],
   "source": [
    "anime_features = [\n",
    "    \"anime_id\",\n",
    "    \"type\",\n",
    "    \"source\",\n",
    "    \"episodes\",\n",
    "    \"status\",\n",
    "    \"aired_from\",\n",
    "    \"aired_to\",\n",
    "    \"duration\",\n",
    "    \"rating\",\n",
    "    \"score\",\n",
    "    \"scored_by\",\n",
    "    \"rank\",\n",
    "    \"popularity\",\n",
    "    \"members\",\n",
    "    \"favorites\",\n",
    "    \"synopsis\",\n",
    "    \"producers\",\n",
    "    \"studios\",\n",
    "    \"genres\",\n",
    "    \"themes\",\n",
    "]\n",
    "\n",
    "anime_df = anime_df[anime_features]"
   ]
  },
  {
   "cell_type": "code",
   "execution_count": 5,
   "metadata": {},
   "outputs": [],
   "source": [
    "anime_df = anime_df[~(anime_df[\"status\"] == \"Not yet aired\")]"
   ]
  },
  {
   "cell_type": "markdown",
   "metadata": {},
   "source": [
    "### Feature Transformation"
   ]
  },
  {
   "cell_type": "code",
   "execution_count": 6,
   "metadata": {},
   "outputs": [],
   "source": [
    "def parse_date(date_str):\n",
    "    try:\n",
    "        return pd.to_datetime(date_str, errors=\"coerce\").tz_localize(None)\n",
    "    except:\n",
    "        return pd.NaT\n",
    "\n",
    "\n",
    "def split_and_lower(x, separator=\", \"):\n",
    "    return str(x).lower().split(separator) if not pd.isna(x) else []\n",
    "\n",
    "\n",
    "def transform_values(df):\n",
    "    date_columns = [\"aired_from\", \"aired_to\"]\n",
    "    list_columns = [\"genres\", \"themes\", \"studios\", \"producers\"]\n",
    "\n",
    "    df[date_columns] = df[date_columns].map(parse_date)\n",
    "    for col in list_columns:\n",
    "        df[col] = df[col].apply(split_and_lower)\n",
    "\n",
    "    df[\"rating\"] = df[\"rating\"].astype(str).str.split().str[0]\n",
    "\n",
    "    return df\n",
    "\n",
    "\n",
    "anime_df = transform_values(anime_df)"
   ]
  },
  {
   "cell_type": "code",
   "execution_count": 7,
   "metadata": {},
   "outputs": [
    {
     "data": {
      "application/vnd.jupyter.widget-view+json": {
       "model_id": "82dc1abc16034d599303e85080fcd6a8",
       "version_major": 2,
       "version_minor": 0
      },
      "text/plain": [
       "Cleaning synopsis:   0%|          | 0/361 [00:00<?, ?it/s]"
      ]
     },
     "metadata": {},
     "output_type": "display_data"
    }
   ],
   "source": [
    "def clean_text(text, nlp):\n",
    "    doc = nlp(text.lower())\n",
    "    tokens = [token.lemma_ for token in doc if not token.is_stop and not token.is_punct and token.lemma_.strip()]\n",
    "    return \" \".join(tokens)\n",
    "\n",
    "\n",
    "def clean_synopsis(df):\n",
    "    nlp = spacy.load(\"en_core_web_sm\")\n",
    "    tqdm.pandas(desc=\"Cleaning synopsis\")\n",
    "    df[\"synopsis\"] = df[\"synopsis\"].progress_apply(lambda x: clean_text(x, nlp) if pd.notna(x) else \"\")\n",
    "    return df\n",
    "\n",
    "\n",
    "anime_df = clean_synopsis(anime_df)"
   ]
  },
  {
   "cell_type": "markdown",
   "metadata": {},
   "source": [
    "### Data Imputation"
   ]
  },
  {
   "cell_type": "code",
   "execution_count": 8,
   "metadata": {},
   "outputs": [],
   "source": [
    "def handle_missing_values(df):\n",
    "    # TODO: Date imputation\n",
    "\n",
    "    df[\"episodes\"] = df[\"episodes\"].fillna(0)\n",
    "    df[\"scored_by\"] = df[\"scored_by\"].fillna(0)\n",
    "    df[\"score\"] = df[\"score\"].fillna(df[\"score\"].mean())\n",
    "    df[\"type\"] = df[\"type\"].fillna(df[\"type\"].mode()[0])\n",
    "    df[\"rank\"] = df[\"rank\"].fillna(df[\"rank\"].max() + 1)\n",
    "    return df\n",
    "\n",
    "\n",
    "anime_df = handle_missing_values(anime_df)"
   ]
  },
  {
   "cell_type": "code",
   "execution_count": 9,
   "metadata": {},
   "outputs": [
    {
     "name": "stdout",
     "output_type": "stream",
     "text": [
      "['anime_id', 'type', 'source', 'episodes', 'status', 'aired_from', 'aired_to', 'duration', 'rating', 'score', 'scored_by', 'rank', 'popularity', 'members', 'favorites', 'synopsis', 'producers', 'studios', 'genres', 'themes']\n"
     ]
    }
   ],
   "source": [
    "print(anime_df.columns.to_list())"
   ]
  },
  {
   "cell_type": "markdown",
   "metadata": {},
   "source": [
    " ## Feature Engineering"
   ]
  },
  {
   "cell_type": "markdown",
   "metadata": {},
   "source": [
    "### Temporal Features"
   ]
  },
  {
   "cell_type": "code",
   "execution_count": 10,
   "metadata": {},
   "outputs": [],
   "source": [
    "def create_age_bucket(df):\n",
    "    current_date = pd.Timestamp.now()\n",
    "    df[\"age\"] = (current_date - df[\"aired_from\"]).dt.days / 365.25\n",
    "    df[\"age_bucket\"] = pd.cut(df[\"age\"], bins=[0, 1, 5, 10, 20, float(\"inf\")], labels=[0, 1, 2, 3, 4])\n",
    "    return df.drop(columns=[\"age\"])\n",
    "\n",
    "\n",
    "def create_status_features(df):\n",
    "    df[\"is_ongoing\"] = (df[\"status\"] == \"Currently Airing\").astype(int)\n",
    "    df[\"days_aired\"] = (df[\"aired_to\"] - df[\"aired_from\"]).dt.days\n",
    "    df.loc[df[\"is_ongoing\"] == 1, \"days_aired\"] = (\n",
    "        pd.Timestamp.now() - df.loc[df[\"is_ongoing\"] == 1, \"aired_from\"]\n",
    "    ).dt.days\n",
    "    return df.drop(columns=[\"status\"])\n",
    "\n",
    "\n",
    "def create_season_encoding(df):\n",
    "    df[\"month\"] = df[\"aired_from\"].dt.month\n",
    "    df[\"season_sin\"] = np.sin(2 * np.pi * df[\"month\"] / 12)\n",
    "    df[\"season_cos\"] = np.cos(2 * np.pi * df[\"month\"] / 12)\n",
    "    return df.drop(columns=[\"month\"])\n",
    "\n",
    "\n",
    "def extract_minutes(duration_str):\n",
    "    if pd.isna(duration_str):\n",
    "        return np.nan\n",
    "    hours = re.findall(r\"(\\d+)\\s*hr\", duration_str)\n",
    "    minutes = re.findall(r\"(\\d+)\\s*min\", duration_str)\n",
    "    total_minutes = 0\n",
    "    if hours:\n",
    "        total_minutes += int(hours[0]) * 60\n",
    "    if minutes:\n",
    "        total_minutes += int(minutes[0])\n",
    "    return total_minutes\n",
    "\n",
    "\n",
    "def create_runtime_density(df):\n",
    "    df[\"episode_duration\"] = df[\"duration\"].apply(extract_minutes)\n",
    "    df[\"total_runtime\"] = df[\"episode_duration\"] * df[\"episodes\"]\n",
    "    df[\"airing_days\"] = (df[\"aired_to\"] - df[\"aired_from\"]).dt.days\n",
    "    df[\"runtime_density\"] = df[\"total_runtime\"] / df[\"airing_days\"].replace(0, 1)  # Avoid division by zero\n",
    "    return df.drop(columns=[\"episode_duration\", \"total_runtime\", \"airing_days\"])\n",
    "\n",
    "\n",
    "def create_temporal_features(df):\n",
    "    df = create_age_bucket(df)\n",
    "    df = create_status_features(df)\n",
    "    df = create_season_encoding(df)\n",
    "    df = create_runtime_density(df)\n",
    "    return df\n",
    "\n",
    "\n",
    "anime_df = create_temporal_features(anime_df)"
   ]
  },
  {
   "cell_type": "markdown",
   "metadata": {},
   "source": [
    "### Categorical Features"
   ]
  },
  {
   "cell_type": "code",
   "execution_count": 11,
   "metadata": {},
   "outputs": [],
   "source": [
    "def create_boolean_features(df):\n",
    "    df[\"is_tv\"] = (df[\"type\"] == \"TV\").astype(int)\n",
    "    df[\"is_movie\"] = (df[\"type\"] == \"Movie\").astype(int)\n",
    "    df[\"is_original\"] = (df[\"source\"] == \"Original\").astype(int)\n",
    "    df[\"is_manga\"] = (df[\"source\"] == \"Manga\").astype(int)\n",
    "    df[\"is_novel\"] = (df[\"source\"].isin([\"Novel\", \"Light novel\", \"Visual novel\"])).astype(int)\n",
    "    df[\"is_adult\"] = (df[\"rating\"].isin([\"R\", \"R+\", \"Rx\"])).astype(int)\n",
    "\n",
    "    return df.drop(columns=[\"type\", \"source\", \"rating\"])\n",
    "\n",
    "\n",
    "anime_df = create_boolean_features(anime_df)"
   ]
  },
  {
   "cell_type": "code",
   "execution_count": 12,
   "metadata": {},
   "outputs": [],
   "source": [
    "def load_category_mappings(file_path):\n",
    "    with open(file_path, \"r\") as file:\n",
    "        return json.load(file)\n",
    "\n",
    "\n",
    "def map_categories(genres_and_themes, mapping):\n",
    "    categories = set()\n",
    "    for item in genres_and_themes:\n",
    "        for category, genre_list in mapping.items():\n",
    "            if item != \"isekai\" and item in genre_list:\n",
    "                categories.add(category)\n",
    "    return list(categories) if categories else [\"Other\"]\n",
    "\n",
    "\n",
    "def create_categories(df, mappings):\n",
    "    df[\"categories\"] = df[\"genres\"] + df[\"themes\"]\n",
    "    df[\"categories\"] = df[\"categories\"].apply(lambda x: map_categories(x, mappings))\n",
    "\n",
    "    all_categories = set(mappings.keys())\n",
    "    for category in all_categories:\n",
    "        df[f\"is_{category.lower()}\"] = df[\"categories\"].apply(lambda x: int(category in x))\n",
    "\n",
    "    return df.drop(columns=[\"genres\", \"themes\", \"categories\"])\n",
    "\n",
    "\n",
    "category_mappings = load_category_mappings(\"data/category_mappings.json\")\n",
    "anime_df = create_categories(anime_df, category_mappings)"
   ]
  },
  {
   "cell_type": "code",
   "execution_count": 13,
   "metadata": {},
   "outputs": [
    {
     "data": {
      "application/vnd.jupyter.widget-view+json": {
       "model_id": "9e73055ca30b4c69876cbc13a96d2d15",
       "version_major": 2,
       "version_minor": 0
      },
      "text/plain": [
       "Batches:   0%|          | 0/12 [00:00<?, ?it/s]"
      ]
     },
     "metadata": {},
     "output_type": "display_data"
    }
   ],
   "source": [
    "def create_synopsis_embeddings(df):\n",
    "    df = df.reset_index(drop=True)\n",
    "    model = SentenceTransformer(\"sentence-transformers/all-MiniLM-L6-v2\")\n",
    "\n",
    "    embeddings = model.encode(df[\"synopsis\"], show_progress_bar=True)\n",
    "\n",
    "    synopsis_df = pd.DataFrame(\n",
    "        embeddings,\n",
    "        columns=[f\"synopsis_emb_{i}\" for i in range(embeddings.shape[1])],\n",
    "    )\n",
    "\n",
    "    df = pd.concat([df, synopsis_df], axis=1)\n",
    "    return df.drop(columns=[\"synopsis\"])\n",
    "\n",
    "\n",
    "anime_df = create_synopsis_embeddings(anime_df)"
   ]
  },
  {
   "cell_type": "markdown",
   "metadata": {},
   "source": [
    " ## Final Dataset"
   ]
  },
  {
   "cell_type": "code",
   "execution_count": 14,
   "metadata": {},
   "outputs": [
    {
     "name": "stdout",
     "output_type": "stream",
     "text": [
      "Final dataset shape: (361, 428)\n",
      "\n",
      "Columns in the final dataset:\n",
      "['anime_id', 'episodes', 'aired_from', 'aired_to', 'duration', 'score', 'scored_by', 'rank', 'popularity', 'members', 'favorites', 'producers', 'studios', 'age_bucket', 'is_ongoing', 'days_aired', 'season_sin', 'season_cos', 'runtime_density', 'is_tv', 'is_movie', 'is_original', 'is_manga', 'is_novel', 'is_adult', 'is_comedy', 'is_game', 'is_fantasy', 'is_sciencefiction', 'is_artistic style', 'is_setting', 'is_historical', 'is_action', 'is_drama', 'is_sports', 'is_lifestyle', 'is_professional', 'is_adventure', 'is_thematic', 'is_demographic', 'is_relationship', 'is_ecchi', 'is_psychological', 'is_supernatural', 'synopsis_emb_0', 'synopsis_emb_1', 'synopsis_emb_2', 'synopsis_emb_3', 'synopsis_emb_4', 'synopsis_emb_5', 'synopsis_emb_6', 'synopsis_emb_7', 'synopsis_emb_8', 'synopsis_emb_9', 'synopsis_emb_10', 'synopsis_emb_11', 'synopsis_emb_12', 'synopsis_emb_13', 'synopsis_emb_14', 'synopsis_emb_15', 'synopsis_emb_16', 'synopsis_emb_17', 'synopsis_emb_18', 'synopsis_emb_19', 'synopsis_emb_20', 'synopsis_emb_21', 'synopsis_emb_22', 'synopsis_emb_23', 'synopsis_emb_24', 'synopsis_emb_25', 'synopsis_emb_26', 'synopsis_emb_27', 'synopsis_emb_28', 'synopsis_emb_29', 'synopsis_emb_30', 'synopsis_emb_31', 'synopsis_emb_32', 'synopsis_emb_33', 'synopsis_emb_34', 'synopsis_emb_35', 'synopsis_emb_36', 'synopsis_emb_37', 'synopsis_emb_38', 'synopsis_emb_39', 'synopsis_emb_40', 'synopsis_emb_41', 'synopsis_emb_42', 'synopsis_emb_43', 'synopsis_emb_44', 'synopsis_emb_45', 'synopsis_emb_46', 'synopsis_emb_47', 'synopsis_emb_48', 'synopsis_emb_49', 'synopsis_emb_50', 'synopsis_emb_51', 'synopsis_emb_52', 'synopsis_emb_53', 'synopsis_emb_54', 'synopsis_emb_55', 'synopsis_emb_56', 'synopsis_emb_57', 'synopsis_emb_58', 'synopsis_emb_59', 'synopsis_emb_60', 'synopsis_emb_61', 'synopsis_emb_62', 'synopsis_emb_63', 'synopsis_emb_64', 'synopsis_emb_65', 'synopsis_emb_66', 'synopsis_emb_67', 'synopsis_emb_68', 'synopsis_emb_69', 'synopsis_emb_70', 'synopsis_emb_71', 'synopsis_emb_72', 'synopsis_emb_73', 'synopsis_emb_74', 'synopsis_emb_75', 'synopsis_emb_76', 'synopsis_emb_77', 'synopsis_emb_78', 'synopsis_emb_79', 'synopsis_emb_80', 'synopsis_emb_81', 'synopsis_emb_82', 'synopsis_emb_83', 'synopsis_emb_84', 'synopsis_emb_85', 'synopsis_emb_86', 'synopsis_emb_87', 'synopsis_emb_88', 'synopsis_emb_89', 'synopsis_emb_90', 'synopsis_emb_91', 'synopsis_emb_92', 'synopsis_emb_93', 'synopsis_emb_94', 'synopsis_emb_95', 'synopsis_emb_96', 'synopsis_emb_97', 'synopsis_emb_98', 'synopsis_emb_99', 'synopsis_emb_100', 'synopsis_emb_101', 'synopsis_emb_102', 'synopsis_emb_103', 'synopsis_emb_104', 'synopsis_emb_105', 'synopsis_emb_106', 'synopsis_emb_107', 'synopsis_emb_108', 'synopsis_emb_109', 'synopsis_emb_110', 'synopsis_emb_111', 'synopsis_emb_112', 'synopsis_emb_113', 'synopsis_emb_114', 'synopsis_emb_115', 'synopsis_emb_116', 'synopsis_emb_117', 'synopsis_emb_118', 'synopsis_emb_119', 'synopsis_emb_120', 'synopsis_emb_121', 'synopsis_emb_122', 'synopsis_emb_123', 'synopsis_emb_124', 'synopsis_emb_125', 'synopsis_emb_126', 'synopsis_emb_127', 'synopsis_emb_128', 'synopsis_emb_129', 'synopsis_emb_130', 'synopsis_emb_131', 'synopsis_emb_132', 'synopsis_emb_133', 'synopsis_emb_134', 'synopsis_emb_135', 'synopsis_emb_136', 'synopsis_emb_137', 'synopsis_emb_138', 'synopsis_emb_139', 'synopsis_emb_140', 'synopsis_emb_141', 'synopsis_emb_142', 'synopsis_emb_143', 'synopsis_emb_144', 'synopsis_emb_145', 'synopsis_emb_146', 'synopsis_emb_147', 'synopsis_emb_148', 'synopsis_emb_149', 'synopsis_emb_150', 'synopsis_emb_151', 'synopsis_emb_152', 'synopsis_emb_153', 'synopsis_emb_154', 'synopsis_emb_155', 'synopsis_emb_156', 'synopsis_emb_157', 'synopsis_emb_158', 'synopsis_emb_159', 'synopsis_emb_160', 'synopsis_emb_161', 'synopsis_emb_162', 'synopsis_emb_163', 'synopsis_emb_164', 'synopsis_emb_165', 'synopsis_emb_166', 'synopsis_emb_167', 'synopsis_emb_168', 'synopsis_emb_169', 'synopsis_emb_170', 'synopsis_emb_171', 'synopsis_emb_172', 'synopsis_emb_173', 'synopsis_emb_174', 'synopsis_emb_175', 'synopsis_emb_176', 'synopsis_emb_177', 'synopsis_emb_178', 'synopsis_emb_179', 'synopsis_emb_180', 'synopsis_emb_181', 'synopsis_emb_182', 'synopsis_emb_183', 'synopsis_emb_184', 'synopsis_emb_185', 'synopsis_emb_186', 'synopsis_emb_187', 'synopsis_emb_188', 'synopsis_emb_189', 'synopsis_emb_190', 'synopsis_emb_191', 'synopsis_emb_192', 'synopsis_emb_193', 'synopsis_emb_194', 'synopsis_emb_195', 'synopsis_emb_196', 'synopsis_emb_197', 'synopsis_emb_198', 'synopsis_emb_199', 'synopsis_emb_200', 'synopsis_emb_201', 'synopsis_emb_202', 'synopsis_emb_203', 'synopsis_emb_204', 'synopsis_emb_205', 'synopsis_emb_206', 'synopsis_emb_207', 'synopsis_emb_208', 'synopsis_emb_209', 'synopsis_emb_210', 'synopsis_emb_211', 'synopsis_emb_212', 'synopsis_emb_213', 'synopsis_emb_214', 'synopsis_emb_215', 'synopsis_emb_216', 'synopsis_emb_217', 'synopsis_emb_218', 'synopsis_emb_219', 'synopsis_emb_220', 'synopsis_emb_221', 'synopsis_emb_222', 'synopsis_emb_223', 'synopsis_emb_224', 'synopsis_emb_225', 'synopsis_emb_226', 'synopsis_emb_227', 'synopsis_emb_228', 'synopsis_emb_229', 'synopsis_emb_230', 'synopsis_emb_231', 'synopsis_emb_232', 'synopsis_emb_233', 'synopsis_emb_234', 'synopsis_emb_235', 'synopsis_emb_236', 'synopsis_emb_237', 'synopsis_emb_238', 'synopsis_emb_239', 'synopsis_emb_240', 'synopsis_emb_241', 'synopsis_emb_242', 'synopsis_emb_243', 'synopsis_emb_244', 'synopsis_emb_245', 'synopsis_emb_246', 'synopsis_emb_247', 'synopsis_emb_248', 'synopsis_emb_249', 'synopsis_emb_250', 'synopsis_emb_251', 'synopsis_emb_252', 'synopsis_emb_253', 'synopsis_emb_254', 'synopsis_emb_255', 'synopsis_emb_256', 'synopsis_emb_257', 'synopsis_emb_258', 'synopsis_emb_259', 'synopsis_emb_260', 'synopsis_emb_261', 'synopsis_emb_262', 'synopsis_emb_263', 'synopsis_emb_264', 'synopsis_emb_265', 'synopsis_emb_266', 'synopsis_emb_267', 'synopsis_emb_268', 'synopsis_emb_269', 'synopsis_emb_270', 'synopsis_emb_271', 'synopsis_emb_272', 'synopsis_emb_273', 'synopsis_emb_274', 'synopsis_emb_275', 'synopsis_emb_276', 'synopsis_emb_277', 'synopsis_emb_278', 'synopsis_emb_279', 'synopsis_emb_280', 'synopsis_emb_281', 'synopsis_emb_282', 'synopsis_emb_283', 'synopsis_emb_284', 'synopsis_emb_285', 'synopsis_emb_286', 'synopsis_emb_287', 'synopsis_emb_288', 'synopsis_emb_289', 'synopsis_emb_290', 'synopsis_emb_291', 'synopsis_emb_292', 'synopsis_emb_293', 'synopsis_emb_294', 'synopsis_emb_295', 'synopsis_emb_296', 'synopsis_emb_297', 'synopsis_emb_298', 'synopsis_emb_299', 'synopsis_emb_300', 'synopsis_emb_301', 'synopsis_emb_302', 'synopsis_emb_303', 'synopsis_emb_304', 'synopsis_emb_305', 'synopsis_emb_306', 'synopsis_emb_307', 'synopsis_emb_308', 'synopsis_emb_309', 'synopsis_emb_310', 'synopsis_emb_311', 'synopsis_emb_312', 'synopsis_emb_313', 'synopsis_emb_314', 'synopsis_emb_315', 'synopsis_emb_316', 'synopsis_emb_317', 'synopsis_emb_318', 'synopsis_emb_319', 'synopsis_emb_320', 'synopsis_emb_321', 'synopsis_emb_322', 'synopsis_emb_323', 'synopsis_emb_324', 'synopsis_emb_325', 'synopsis_emb_326', 'synopsis_emb_327', 'synopsis_emb_328', 'synopsis_emb_329', 'synopsis_emb_330', 'synopsis_emb_331', 'synopsis_emb_332', 'synopsis_emb_333', 'synopsis_emb_334', 'synopsis_emb_335', 'synopsis_emb_336', 'synopsis_emb_337', 'synopsis_emb_338', 'synopsis_emb_339', 'synopsis_emb_340', 'synopsis_emb_341', 'synopsis_emb_342', 'synopsis_emb_343', 'synopsis_emb_344', 'synopsis_emb_345', 'synopsis_emb_346', 'synopsis_emb_347', 'synopsis_emb_348', 'synopsis_emb_349', 'synopsis_emb_350', 'synopsis_emb_351', 'synopsis_emb_352', 'synopsis_emb_353', 'synopsis_emb_354', 'synopsis_emb_355', 'synopsis_emb_356', 'synopsis_emb_357', 'synopsis_emb_358', 'synopsis_emb_359', 'synopsis_emb_360', 'synopsis_emb_361', 'synopsis_emb_362', 'synopsis_emb_363', 'synopsis_emb_364', 'synopsis_emb_365', 'synopsis_emb_366', 'synopsis_emb_367', 'synopsis_emb_368', 'synopsis_emb_369', 'synopsis_emb_370', 'synopsis_emb_371', 'synopsis_emb_372', 'synopsis_emb_373', 'synopsis_emb_374', 'synopsis_emb_375', 'synopsis_emb_376', 'synopsis_emb_377', 'synopsis_emb_378', 'synopsis_emb_379', 'synopsis_emb_380', 'synopsis_emb_381', 'synopsis_emb_382', 'synopsis_emb_383']\n"
     ]
    }
   ],
   "source": [
    "print(f\"Final dataset shape: {anime_df.shape}\")\n",
    "print(\"\\nColumns in the final dataset:\")\n",
    "print(anime_df.columns.tolist())"
   ]
  },
  {
   "cell_type": "code",
   "execution_count": 15,
   "metadata": {},
   "outputs": [
    {
     "name": "stdout",
     "output_type": "stream",
     "text": [
      "Processed dataset saved to 'processed_anime_data.csv'\n"
     ]
    }
   ],
   "source": [
    "anime_df.to_csv(\"processed_anime_data.csv\", index=False)\n",
    "print(\"Processed dataset saved to 'processed_anime_data.csv'\")"
   ]
  }
 ],
 "metadata": {
  "kernelspec": {
   "display_name": ".venv",
   "language": "python",
   "name": "python3"
  },
  "language_info": {
   "codemirror_mode": {
    "name": "ipython",
    "version": 3
   },
   "file_extension": ".py",
   "mimetype": "text/x-python",
   "name": "python",
   "nbconvert_exporter": "python",
   "pygments_lexer": "ipython3",
   "version": "3.12.7"
  }
 },
 "nbformat": 4,
 "nbformat_minor": 2
}
